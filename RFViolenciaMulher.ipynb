{
  "nbformat": 4,
  "nbformat_minor": 0,
  "metadata": {
    "kernelspec": {
      "display_name": "Python 3",
      "language": "python",
      "name": "python3"
    },
    "language_info": {
      "codemirror_mode": {
        "name": "ipython",
        "version": 3
      },
      "file_extension": ".py",
      "mimetype": "text/x-python",
      "name": "python",
      "nbconvert_exporter": "python",
      "pygments_lexer": "ipython3",
      "version": "3.6.8"
    },
    "colab": {
      "name": "JJacklaine Cavalheiro - T4 - Projeto.ipynb",
      "provenance": [],
      "collapsed_sections": [],
      "machine_shape": "hm",
      "include_colab_link": true
    }
  },
  "cells": [
    {
      "cell_type": "markdown",
      "metadata": {
        "id": "view-in-github",
        "colab_type": "text"
      },
      "source": [
        "<a href=\"https://colab.research.google.com/github/JRafaQuadros91/RandomForest1/blob/main/RFViolenciaMulher.ipynb\" target=\"_parent\"><img src=\"https://colab.research.google.com/assets/colab-badge.svg\" alt=\"Open In Colab\"/></a>"
      ]
    },
    {
      "cell_type": "markdown",
      "metadata": {
        "id": "1Ytf6fQuDoBL"
      },
      "source": [
        ""
      ]
    },
    {
      "cell_type": "markdown",
      "metadata": {
        "id": "3WhlmD4-DoBM"
      },
      "source": [
        "# Introdução"
      ]
    },
    {
      "cell_type": "markdown",
      "metadata": {
        "id": "aLS-NEHypr25"
      },
      "source": [
        "  Este trabalho consiste em realizar uma análise sobre dados de ocorrências registradas no primeiro semestre do ano de 2020, no estado do PR, as quais tiveram ligação com a Violência Doméstica e Familiar Contra a Mulher, levando em consideração a faixa de renda do suspeito, grau de instrução do suspeito, idade do suspeito e sexo do suspeito, afim de realizar predição e trazer como resultados a acurácia e matriz de confusão dos dados.\n",
        "     Sendo os dados captados de maneira correta, a realização dessa análise poderia, de certa forma, transmitir informações para a sociedade e contribuir para estudos e encontro de possibilidades e atividades que envolvam homens, com o intuito de educá-los."
      ]
    },
    {
      "cell_type": "markdown",
      "metadata": {
        "id": "sKEBLKI9DoBO"
      },
      "source": [
        "# Objetivos"
      ]
    },
    {
      "cell_type": "markdown",
      "metadata": {
        "id": "JBe47FYAtAn7"
      },
      "source": [
        "Analisar e realizar predição de acordo com os dados de ocorrências realizadas através do Disque 100, envolvendo Violência Doméstica e Familiar Contra a Mulher."
      ]
    },
    {
      "cell_type": "markdown",
      "metadata": {
        "id": "dOxLGdyDDoBQ"
      },
      "source": [
        "# Materiais e métodos"
      ]
    },
    {
      "cell_type": "markdown",
      "metadata": {
        "id": "AJNqJW3wtdrg"
      },
      "source": [
        "Para a realização do trabalho foi utilizado a ferramenta Google Colab, importando a base dados disponibilizados pelo Ministério da Mulher, da Família e dos Direitos Humanos, com foco na Violência Doméstica e Familiar Contra a Mulher.\n",
        "\n",
        "  Em seu desenvolvimento, foi utilizado a linguagem de programação  Python e as bibliotecas Pandas e Matplotlib."
      ]
    },
    {
      "cell_type": "markdown",
      "metadata": {
        "id": "Xq8HwugtDoBS"
      },
      "source": [
        "# Desenvolvimento"
      ]
    },
    {
      "cell_type": "code",
      "metadata": {
        "id": "UvtgagyODoBU"
      },
      "source": [
        "#Bibliotecas\n",
        "\n",
        "%%bash\n",
        "#Instalação das bibliotecas"
      ],
      "execution_count": null,
      "outputs": []
    },
    {
      "cell_type": "code",
      "metadata": {
        "id": "s0xP20MTlxuG"
      },
      "source": [
        "import numpy as np\n",
        "import pandas as pd\n",
        "import matplotlib.pyplot as plt\n",
        "%matplotlib inline"
      ],
      "execution_count": null,
      "outputs": []
    },
    {
      "cell_type": "code",
      "metadata": {
        "id": "MdTNxFFDlz6W",
        "colab": {
          "base_uri": "https://localhost:8080/"
        },
        "outputId": "f6b3be45-220c-4a31-d7bb-056a135a2c7e"
      },
      "source": [
        "from google.colab import drive\n",
        "drive.mount('/drive') #monta a base no google drive"
      ],
      "execution_count": null,
      "outputs": [
        {
          "output_type": "stream",
          "name": "stdout",
          "text": [
            "Drive already mounted at /drive; to attempt to forcibly remount, call drive.mount(\"/drive\", force_remount=True).\n"
          ]
        }
      ]
    },
    {
      "cell_type": "code",
      "metadata": {
        "colab": {
          "base_uri": "https://localhost:8080/"
        },
        "id": "7GbWmtk3LH0G",
        "outputId": "775ab221-b924-4ce9-88e4-dc44a86788b7"
      },
      "source": [
        "!ls '/drive/MyDrive/IFPR/'"
      ],
      "execution_count": null,
      "outputs": [
        {
          "output_type": "stream",
          "name": "stdout",
          "text": [
            "'1º Ano'\t\t\t AulaPassandoDadosEntreActivity   RecyclerView\n",
            "'2º Ano'\t\t\t CalendarioTADS.pdf\t\t  Snackbar\n",
            " AulaActivity\t\t\t HorarioTADS.pdf\t\t  TCC.docx\n",
            " AulaActivityANDROIDSTUDIO.txt\t'Modelo Apresentação TCC.pptx'\n",
            " AulaNavegationDrawer\t\t primeiro_semestre_2020.csv\n"
          ]
        }
      ]
    },
    {
      "cell_type": "code",
      "metadata": {
        "id": "8KCefmvmT8Go"
      },
      "source": [
        " #caminho da base de dados\n",
        "database_path = '/drive/MyDrive/IFPR/primeiro_semestre_2020.csv'\n",
        "\n",
        "#Carrega a base\n",
        "df = pd.read_csv(database_path, sep=';', encoding='latin-1')"
      ],
      "execution_count": null,
      "outputs": []
    },
    {
      "cell_type": "code",
      "metadata": {
        "colab": {
          "base_uri": "https://localhost:8080/",
          "height": 625
        },
        "id": "tnH_QssiNTZP",
        "outputId": "fd89499d-1375-43ec-bf25-6adc8cbaf5b0"
      },
      "source": [
        "df.head()"
      ],
      "execution_count": null,
      "outputs": [
        {
          "output_type": "execute_result",
          "data": {
            "text/html": [
              "<div>\n",
              "<style scoped>\n",
              "    .dataframe tbody tr th:only-of-type {\n",
              "        vertical-align: middle;\n",
              "    }\n",
              "\n",
              "    .dataframe tbody tr th {\n",
              "        vertical-align: top;\n",
              "    }\n",
              "\n",
              "    .dataframe thead th {\n",
              "        text-align: right;\n",
              "    }\n",
              "</style>\n",
              "<table border=\"1\" class=\"dataframe\">\n",
              "  <thead>\n",
              "    <tr style=\"text-align: right;\">\n",
              "      <th></th>\n",
              "      <th>Ano</th>\n",
              "      <th>Trimestre</th>\n",
              "      <th>Mês</th>\n",
              "      <th>Dia</th>\n",
              "      <th>Tipo_de_violação</th>\n",
              "      <th>Grupo_vulnerável</th>\n",
              "      <th>Espécie_de_violação</th>\n",
              "      <th>País_de_orígem_da_vítima</th>\n",
              "      <th>UF</th>\n",
              "      <th>Canal_de_atendimento</th>\n",
              "      <th>Denúncia_Emergencial</th>\n",
              "      <th>Denunciante</th>\n",
              "      <th>Motivação</th>\n",
              "      <th>Cenário_da_violação</th>\n",
              "      <th>Agravantes</th>\n",
              "      <th>agravantes_policiais</th>\n",
              "      <th>Relação_Vítima_x_Suspeito</th>\n",
              "      <th>Sexo_da_vítima</th>\n",
              "      <th>idade_vitima</th>\n",
              "      <th>Grau_instrução_da_vítima</th>\n",
              "      <th>Raça\\cor_da_vítima</th>\n",
              "      <th>Faixa_de_renda_da_vítima</th>\n",
              "      <th>Nacionalidade_da_vítima</th>\n",
              "      <th>deficiencia_vitima</th>\n",
              "      <th>relacao_demandante_vitima</th>\n",
              "      <th>Sexo_do_suspeito</th>\n",
              "      <th>idade_suspeito</th>\n",
              "      <th>Grau_instrução_do_suspeito</th>\n",
              "      <th>Nacionalidade_do_suspeito</th>\n",
              "      <th>Raça\\cor_do_suspeito</th>\n",
              "      <th>Faixa_de_renda_do_suspeito</th>\n",
              "      <th>País_de_orígem_do_suspeito</th>\n",
              "      <th>deficiencia_suspeito</th>\n",
              "    </tr>\n",
              "  </thead>\n",
              "  <tbody>\n",
              "    <tr>\n",
              "      <th>0</th>\n",
              "      <td>2020</td>\n",
              "      <td>Trim 1</td>\n",
              "      <td>janeiro</td>\n",
              "      <td>1</td>\n",
              "      <td>2. VIOLÊNCIA PSICOLÓGICA</td>\n",
              "      <td>1-Violência Contra a Mulher</td>\n",
              "      <td>TORTURA PSÍQUICA</td>\n",
              "      <td>BRASIL</td>\n",
              "      <td>AL</td>\n",
              "      <td>DENÚNCIA - ATENDIMENTO TELEFÔNICO</td>\n",
              "      <td>NÃO</td>\n",
              "      <td>O PRÓPRIO AGRESSOR</td>\n",
              "      <td>N/D</td>\n",
              "      <td>VIA PÚBLICA</td>\n",
              "      <td>EM PÚBLICO - OUTRAS PESSOAS PRESENCIAM AS AGRE...</td>\n",
              "      <td>N/D</td>\n",
              "      <td>N/D</td>\n",
              "      <td>N/D</td>\n",
              "      <td>N/D</td>\n",
              "      <td>N/D</td>\n",
              "      <td>N/D</td>\n",
              "      <td>N/D</td>\n",
              "      <td>N/D</td>\n",
              "      <td>N/D</td>\n",
              "      <td>N/D</td>\n",
              "      <td>MASCULINO</td>\n",
              "      <td>37 ANOS</td>\n",
              "      <td>ENSINO FUNDAMENTAL INCOMPLETO</td>\n",
              "      <td>BRASILEIRO(A)</td>\n",
              "      <td>PARDA</td>\n",
              "      <td>ATÉ 1 SALÁRIO MÍNIMO</td>\n",
              "      <td>BRASIL</td>\n",
              "      <td>NÃO</td>\n",
              "    </tr>\n",
              "    <tr>\n",
              "      <th>1</th>\n",
              "      <td>2020</td>\n",
              "      <td>Trim 1</td>\n",
              "      <td>janeiro</td>\n",
              "      <td>1</td>\n",
              "      <td>2. VIOLÊNCIA PSICOLÓGICA</td>\n",
              "      <td>1-Violência Contra a Mulher</td>\n",
              "      <td>AMEAÇA/COAÇÃO</td>\n",
              "      <td>BRASIL</td>\n",
              "      <td>AL</td>\n",
              "      <td>DENÚNCIA - ATENDIMENTO TELEFÔNICO</td>\n",
              "      <td>NÃO</td>\n",
              "      <td>O PRÓPRIO AGRESSOR</td>\n",
              "      <td>EM RAZÃO DO SEXO BIOLÓGICO</td>\n",
              "      <td>VIA PÚBLICA</td>\n",
              "      <td>RESULTADO DAS AGRESSÕES SE PROLONGAM AO LONGO ...</td>\n",
              "      <td>N/D</td>\n",
              "      <td>N/D</td>\n",
              "      <td>N/D</td>\n",
              "      <td>N/D</td>\n",
              "      <td>N/D</td>\n",
              "      <td>N/D</td>\n",
              "      <td>N/D</td>\n",
              "      <td>N/D</td>\n",
              "      <td>N/D</td>\n",
              "      <td>N/D</td>\n",
              "      <td>MASCULINO</td>\n",
              "      <td>37 ANOS</td>\n",
              "      <td>ENSINO FUNDAMENTAL INCOMPLETO</td>\n",
              "      <td>BRASILEIRO(A)</td>\n",
              "      <td>PARDA</td>\n",
              "      <td>ATÉ 1 SALÁRIO MÍNIMO</td>\n",
              "      <td>BRASIL</td>\n",
              "      <td>NÃO</td>\n",
              "    </tr>\n",
              "    <tr>\n",
              "      <th>2</th>\n",
              "      <td>2020</td>\n",
              "      <td>Trim 1</td>\n",
              "      <td>janeiro</td>\n",
              "      <td>1</td>\n",
              "      <td>7. VIOLAÇÕES GERAIS</td>\n",
              "      <td>1-Violência Contra a Mulher</td>\n",
              "      <td>LIBERDADE SEXUAL PSÍQUICA - ABUSO SEXUAL PSÍQUICO</td>\n",
              "      <td>BRASIL</td>\n",
              "      <td>AL</td>\n",
              "      <td>DENÚNCIA - ATENDIMENTO TELEFÔNICO</td>\n",
              "      <td>NÃO</td>\n",
              "      <td>O PRÓPRIO AGRESSOR</td>\n",
              "      <td>EM RAZÃO DO SEXO BIOLÓGICO</td>\n",
              "      <td>VIA PÚBLICA</td>\n",
              "      <td>RESULTADO DAS AGRESSÕES SE PROLONGAM AO LONGO ...</td>\n",
              "      <td>N/D</td>\n",
              "      <td>N/D</td>\n",
              "      <td>N/D</td>\n",
              "      <td>N/D</td>\n",
              "      <td>N/D</td>\n",
              "      <td>N/D</td>\n",
              "      <td>N/D</td>\n",
              "      <td>N/D</td>\n",
              "      <td>N/D</td>\n",
              "      <td>N/D</td>\n",
              "      <td>MASCULINO</td>\n",
              "      <td>37 ANOS</td>\n",
              "      <td>ENSINO FUNDAMENTAL INCOMPLETO</td>\n",
              "      <td>BRASILEIRO(A)</td>\n",
              "      <td>PARDA</td>\n",
              "      <td>ATÉ 1 SALÁRIO MÍNIMO</td>\n",
              "      <td>BRASIL</td>\n",
              "      <td>NÃO</td>\n",
              "    </tr>\n",
              "    <tr>\n",
              "      <th>3</th>\n",
              "      <td>2020</td>\n",
              "      <td>Trim 1</td>\n",
              "      <td>janeiro</td>\n",
              "      <td>1</td>\n",
              "      <td>2. VIOLÊNCIA PSICOLÓGICA</td>\n",
              "      <td>1-Violência Contra a Mulher</td>\n",
              "      <td>TORTURA PSÍQUICA</td>\n",
              "      <td>BRASIL</td>\n",
              "      <td>AL</td>\n",
              "      <td>DENÚNCIA - ATENDIMENTO TELEFÔNICO</td>\n",
              "      <td>NÃO</td>\n",
              "      <td>O PRÓPRIO AGRESSOR</td>\n",
              "      <td>N/D</td>\n",
              "      <td>VIA PÚBLICA</td>\n",
              "      <td>EM PÚBLICO - OUTRAS PESSOAS PRESENCIAM AS AGRE...</td>\n",
              "      <td>N/D</td>\n",
              "      <td>N/D</td>\n",
              "      <td>N/D</td>\n",
              "      <td>N/D</td>\n",
              "      <td>N/D</td>\n",
              "      <td>N/D</td>\n",
              "      <td>N/D</td>\n",
              "      <td>N/D</td>\n",
              "      <td>N/D</td>\n",
              "      <td>N/D</td>\n",
              "      <td>MASCULINO</td>\n",
              "      <td>37 ANOS</td>\n",
              "      <td>ENSINO FUNDAMENTAL INCOMPLETO</td>\n",
              "      <td>BRASILEIRO(A)</td>\n",
              "      <td>PARDA</td>\n",
              "      <td>ATÉ 1 SALÁRIO MÍNIMO</td>\n",
              "      <td>BRASIL</td>\n",
              "      <td>NÃO</td>\n",
              "    </tr>\n",
              "    <tr>\n",
              "      <th>4</th>\n",
              "      <td>2020</td>\n",
              "      <td>Trim 1</td>\n",
              "      <td>janeiro</td>\n",
              "      <td>1</td>\n",
              "      <td>2. VIOLÊNCIA PSICOLÓGICA</td>\n",
              "      <td>1-Violência Contra a Mulher</td>\n",
              "      <td>AMEAÇA/COAÇÃO</td>\n",
              "      <td>BRASIL</td>\n",
              "      <td>AL</td>\n",
              "      <td>DENÚNCIA - ATENDIMENTO TELEFÔNICO</td>\n",
              "      <td>NÃO</td>\n",
              "      <td>O PRÓPRIO AGRESSOR</td>\n",
              "      <td>EM RAZÃO DO SEXO BIOLÓGICO</td>\n",
              "      <td>VIA PÚBLICA</td>\n",
              "      <td>RESULTADO DAS AGRESSÕES SE PROLONGAM AO LONGO ...</td>\n",
              "      <td>N/D</td>\n",
              "      <td>N/D</td>\n",
              "      <td>N/D</td>\n",
              "      <td>N/D</td>\n",
              "      <td>N/D</td>\n",
              "      <td>N/D</td>\n",
              "      <td>N/D</td>\n",
              "      <td>N/D</td>\n",
              "      <td>N/D</td>\n",
              "      <td>N/D</td>\n",
              "      <td>MASCULINO</td>\n",
              "      <td>37 ANOS</td>\n",
              "      <td>ENSINO FUNDAMENTAL INCOMPLETO</td>\n",
              "      <td>BRASILEIRO(A)</td>\n",
              "      <td>PARDA</td>\n",
              "      <td>ATÉ 1 SALÁRIO MÍNIMO</td>\n",
              "      <td>BRASIL</td>\n",
              "      <td>NÃO</td>\n",
              "    </tr>\n",
              "  </tbody>\n",
              "</table>\n",
              "</div>"
            ],
            "text/plain": [
              "    Ano Trimestre  ... País_de_orígem_do_suspeito  deficiencia_suspeito\n",
              "0  2020    Trim 1  ...                     BRASIL                   NÃO\n",
              "1  2020    Trim 1  ...                     BRASIL                   NÃO\n",
              "2  2020    Trim 1  ...                     BRASIL                   NÃO\n",
              "3  2020    Trim 1  ...                     BRASIL                   NÃO\n",
              "4  2020    Trim 1  ...                     BRASIL                   NÃO\n",
              "\n",
              "[5 rows x 33 columns]"
            ]
          },
          "metadata": {},
          "execution_count": 7
        }
      ]
    },
    {
      "cell_type": "code",
      "metadata": {
        "colab": {
          "base_uri": "https://localhost:8080/"
        },
        "id": "CLmHwwltOWS2",
        "outputId": "e51ac1e0-200d-41f7-9760-1ca84724ba9e"
      },
      "source": [
        "df.shape #Mostra o número de linhas e colunas na base"
      ],
      "execution_count": null,
      "outputs": [
        {
          "output_type": "execute_result",
          "data": {
            "text/plain": [
              "(1016398, 33)"
            ]
          },
          "metadata": {},
          "execution_count": 8
        }
      ]
    },
    {
      "cell_type": "code",
      "metadata": {
        "colab": {
          "base_uri": "https://localhost:8080/"
        },
        "id": "gvx8fc-SRlmo",
        "outputId": "5df6775f-9881-4b55-9263-63fffba14765"
      },
      "source": [
        "#Listagem da quantidade de registros de violência por estado\n",
        "vl = df[\"UF\"].value_counts()\n",
        "vl.head(27)"
      ],
      "execution_count": null,
      "outputs": [
        {
          "output_type": "execute_result",
          "data": {
            "text/plain": [
              "SP    233753\n",
              "RJ    158734\n",
              "MG    116828\n",
              "BA     51152\n",
              "RS     49766\n",
              "PR     37587\n",
              "CE     37092\n",
              "PE     34890\n",
              "SC     32095\n",
              "GO     30509\n",
              "MA     24928\n",
              "DF     24282\n",
              "PA     23894\n",
              "RN     21321\n",
              "AM     20573\n",
              "ES     19242\n",
              "PB     18582\n",
              "MS     16511\n",
              "PI     14432\n",
              "AL     12283\n",
              "MT      9695\n",
              "SE      8965\n",
              "RO      6002\n",
              "TO      5163\n",
              "AP      2519\n",
              "AC      2489\n",
              "RR      1873\n",
              "Name: UF, dtype: int64"
            ]
          },
          "metadata": {},
          "execution_count": 9
        }
      ]
    },
    {
      "cell_type": "code",
      "metadata": {
        "colab": {
          "base_uri": "https://localhost:8080/",
          "height": 320
        },
        "id": "7w2Kfp3Vh4Xo",
        "outputId": "5fe47be3-db99-4c52-8c70-f31bbf2b055e"
      },
      "source": [
        "v2 = df[\"Grupo_vulnerável\"]\n",
        "v2a = v2.value_counts()\n",
        "v2a.head()  ## A maioria das ocorrências envolvem Violência Doméstica e Familiar Contra a Mulher\n",
        "\n",
        "v2a.plot(kind=\"barh\",stacked=True,figsize=(5,5),color='purple')\n",
        "plt.show()"
      ],
      "execution_count": null,
      "outputs": [
        {
          "output_type": "display_data",
          "data": {
            "image/png": "[encoded data removed]",
            "text/plain": [
              "<Figure size 360x360 with 1 Axes>"
            ]
          },
          "metadata": {
            "needs_background": "light"
          }
        }
      ]
    },
    {
      "cell_type": "markdown",
      "metadata": {
        "id": "ecnpOdImvyT4"
      },
      "source": [
        "2-Violência Doméstica e Familiar Contra a Mulher"
      ]
    },
    {
      "cell_type": "code",
      "metadata": {
        "colab": {
          "base_uri": "https://localhost:8080/"
        },
        "id": "lZY2AMKRMPE7",
        "outputId": "fd19b44c-ca4d-433a-cc87-9ab326cb62ba"
      },
      "source": [
        "df1 = df[df['UF']== 'PR']\n",
        "df1.value_counts()\n",
        "df1.info"
      ],
      "execution_count": null,
      "outputs": [
        {
          "output_type": "execute_result",
          "data": {
            "text/plain": [
              "<bound method DataFrame.info of          Ano Trimestre  ... País_de_orígem_do_suspeito  deficiencia_suspeito\n",
              "461139  2020    Trim 1  ...                     BRASIL                   N/D\n",
              "461140  2020    Trim 1  ...                     BRASIL                   N/D\n",
              "461141  2020    Trim 1  ...                     BRASIL                   N/D\n",
              "461142  2020    Trim 1  ...                     BRASIL                   N/D\n",
              "461143  2020    Trim 1  ...                     BRASIL                   N/D\n",
              "...      ...       ...  ...                        ...                   ...\n",
              "498721  2020    Trim 2  ...                        N/D                   N/D\n",
              "498722  2020    Trim 2  ...                        N/D                   N/D\n",
              "498723  2020    Trim 2  ...                        N/D                   N/D\n",
              "498724  2020    Trim 2  ...                        N/D                   N/D\n",
              "498725  2020    Trim 2  ...                        N/D                   N/D\n",
              "\n",
              "[37587 rows x 33 columns]>"
            ]
          },
          "metadata": {},
          "execution_count": 11
        }
      ]
    },
    {
      "cell_type": "code",
      "metadata": {
        "id": "Gn7zpR745FyT"
      },
      "source": [
        "import pandas as pd\n",
        "import numpy as np\n",
        "import csv\n",
        "import json\n",
        "import matplotlib.pyplot as plt\n",
        "import glob"
      ],
      "execution_count": null,
      "outputs": []
    },
    {
      "cell_type": "code",
      "metadata": {
        "colab": {
          "base_uri": "https://localhost:8080/"
        },
        "id": "DCakDX3E1-f1",
        "outputId": "b94e6c23-6de5-42da-cc92-afc6152eca08"
      },
      "source": [
        "##Implementando Arvore de Decisão !\n",
        "\n",
        "from sklearn import tree\n",
        "\n",
        "\n",
        "\n",
        "# Variáveis\n",
        "alvo = df1['Grupo_vulnerável'] == '2-Violência Doméstica e Familiar Contra a Mulher' #variável alvo\n",
        "\n",
        "\n",
        "# #Variaveis Dummy\n",
        "baseFiltroquali = ['Faixa_de_renda_do_suspeito', 'Grau_instrução_do_suspeito','idade_suspeito','Sexo_do_suspeito','Agravantes'] #Variáveis qualitativas\n",
        "# baseFiltroquali.astype(\"string\")\n",
        "dfquali = pd.get_dummies(df1[baseFiltroquali])\n",
        "dfquali.info()\n",
        "\n",
        "alvo.head()"
      ],
      "execution_count": null,
      "outputs": [
        {
          "output_type": "stream",
          "name": "stdout",
          "text": [
            "<class 'pandas.core.frame.DataFrame'>\n",
            "Int64Index: 37587 entries, 461139 to 498725\n",
            "Columns: 670 entries, Faixa_de_renda_do_suspeito_\"35 E 37 to Agravantes_VÍTIMA PRESA EM INSTITUIÇÃO PÚBLICA\n",
            "dtypes: uint8(670)\n",
            "memory usage: 24.3 MB\n"
          ]
        },
        {
          "output_type": "execute_result",
          "data": {
            "text/plain": [
              "461139    True\n",
              "461140    True\n",
              "461141    True\n",
              "461142    True\n",
              "461143    True\n",
              "Name: Grupo_vulnerável, dtype: bool"
            ]
          },
          "metadata": {},
          "execution_count": 13
        }
      ]
    },
    {
      "cell_type": "code",
      "metadata": {
        "colab": {
          "base_uri": "https://localhost:8080/"
        },
        "id": "GOPFSYbNV0Be",
        "outputId": "620ec94c-420e-41ae-f24a-4b0d68ce5952"
      },
      "source": [
        "alvo.head()"
      ],
      "execution_count": null,
      "outputs": [
        {
          "output_type": "execute_result",
          "data": {
            "text/plain": [
              "461139    True\n",
              "461140    True\n",
              "461141    True\n",
              "461142    True\n",
              "461143    True\n",
              "Name: Grupo_vulnerável, dtype: bool"
            ]
          },
          "metadata": {},
          "execution_count": 14
        }
      ]
    },
    {
      "cell_type": "code",
      "metadata": {
        "id": "dOvhu8sd8UDT",
        "colab": {
          "base_uri": "https://localhost:8080/"
        },
        "outputId": "207c205e-4f2f-4598-c203-e7798b2aa0a0"
      },
      "source": [
        "from sklearn.model_selection import train_test_split\n",
        "\n",
        "dfquali_train, dfquali_test, alvo_train, alvo_test = train_test_split(dfquali, alvo, train_size=0.7, random_state=42)\n",
        "\n",
        "print('O dataset de treino possui {} entradas e o de teste {} entradas.'.format(dfquali_train.shape[0], dfquali_test.shape[0]))"
      ],
      "execution_count": null,
      "outputs": [
        {
          "output_type": "stream",
          "name": "stdout",
          "text": [
            "O dataset de treino possui 26310 entradas e o de teste 11277 entradas.\n"
          ]
        }
      ]
    },
    {
      "cell_type": "code",
      "metadata": {
        "colab": {
          "base_uri": "https://localhost:8080/"
        },
        "id": "nXMrcn4tBe2K",
        "outputId": "07cc9148-2613-4309-c69d-2c3d03e82340"
      },
      "source": [
        "#importando Random Forest e aplicando o metodo FIT para aplicar o algoritmo\n",
        "from sklearn.ensemble import RandomForestClassifier \n",
        "rfc = RandomForestClassifier()\n",
        "rfc.fit(dfquali_train, alvo_train)"
      ],
      "execution_count": null,
      "outputs": [
        {
          "output_type": "execute_result",
          "data": {
            "text/plain": [
              "RandomForestClassifier()"
            ]
          },
          "metadata": {},
          "execution_count": 16
        }
      ]
    },
    {
      "cell_type": "code",
      "metadata": {
        "id": "b2fGgjB4B3GP",
        "colab": {
          "base_uri": "https://localhost:8080/"
        },
        "outputId": "02d60b0c-688d-405e-9c06-2301d7063aad"
      },
      "source": [
        "#variaveis que mais importam na hora de tomar uma decisão\n",
        "for feature,importancia in zip(dfquali.columns,rfc.feature_importances_): # listando as importancias das variaveis nos resultados da Random Forest\n",
        "    print(\"{}:{} %\".format(feature, (importancia)*100))"
      ],
      "execution_count": null,
      "outputs": [
        {
          "output_type": "stream",
          "name": "stdout",
          "text": [
            "Faixa_de_renda_do_suspeito_\"35 E 37:0.0 %\n",
            "Faixa_de_renda_do_suspeito_1 A 3 SALÁRIOS MÍNIMOS:0.7303709855565138 %\n",
            "Faixa_de_renda_do_suspeito_18 ANOS:0.0008850497345158016 %\n",
            "Faixa_de_renda_do_suspeito_20:0.00018128847415473332 %\n",
            "Faixa_de_renda_do_suspeito_22:9.582031325981932e-05 %\n",
            "Faixa_de_renda_do_suspeito_22 anos:0.0021858047127808105 %\n",
            "Faixa_de_renda_do_suspeito_24:0.00032215977069567403 %\n",
            "Faixa_de_renda_do_suspeito_24 ANOS:0.0 %\n",
            "Faixa_de_renda_do_suspeito_25:0.0033624769558021125 %\n",
            "Faixa_de_renda_do_suspeito_26 ANOS\":0.005518588265319853 %\n",
            "Faixa_de_renda_do_suspeito_26 anos:0.005068080861640114 %\n",
            "Faixa_de_renda_do_suspeito_28 A 29 ANOS:0.00038906237328979867 %\n",
            "Faixa_de_renda_do_suspeito_29:7.598323070767853e-05 %\n",
            "Faixa_de_renda_do_suspeito_29 e 30 - 32 ANOS:9.715245309687783e-05 %\n",
            "Faixa_de_renda_do_suspeito_3 A 5 SALÁRIOS MÍNIMOS:0.4360999894579082 %\n",
            "Faixa_de_renda_do_suspeito_30:5.368005057583441e-05 %\n",
            "Faixa_de_renda_do_suspeito_30 ANOS:0.0020302021454187643 %\n",
            "Faixa_de_renda_do_suspeito_30 ANOS\":0.00016765392316941017 %\n",
            "Faixa_de_renda_do_suspeito_32:1.1640203511848604e-05 %\n",
            "Faixa_de_renda_do_suspeito_32 ANOS:0.002916764141179812 %\n",
            "Faixa_de_renda_do_suspeito_33 ANOS:0.0048250811424449215 %\n",
            "Faixa_de_renda_do_suspeito_35 ANOS:0.0012321338834380528 %\n",
            "Faixa_de_renda_do_suspeito_39 ANOS:0.0 %\n",
            "Faixa_de_renda_do_suspeito_40:4.2797080679468535e-05 %\n",
            "Faixa_de_renda_do_suspeito_40 ANOS:0.0013500128401149859 %\n",
            "Faixa_de_renda_do_suspeito_40 ANOS\":0.0005808727242021363 %\n",
            "Faixa_de_renda_do_suspeito_40/45 ANOS:0.004327735202874736 %\n",
            "Faixa_de_renda_do_suspeito_42 ANOS:0.0019214601031174675 %\n",
            "Faixa_de_renda_do_suspeito_43 ANOS\":0.005866739681253948 %\n",
            "Faixa_de_renda_do_suspeito_45 ANOS APROXIMADAMENTE / 40 ANOS APROXIMADAMENTE:0.0011728440406536156 %\n",
            "Faixa_de_renda_do_suspeito_45 ANOS\":0.0 %\n",
            "Faixa_de_renda_do_suspeito_5 A 15 SALÁRIOS MÍNIMOS:0.25005233820555073 %\n",
            "Faixa_de_renda_do_suspeito_60:0.0031344225730026852 %\n",
            "Faixa_de_renda_do_suspeito_60 ANOS:0.0016543248891126693 %\n",
            "Faixa_de_renda_do_suspeito_63 ANOS APROXIMADAMENTE:0.00045871820191644563 %\n",
            "Faixa_de_renda_do_suspeito_ACIMA DE  15 SALÁRIOS MÍNIMOS:0.06343154193973607 %\n",
            "Faixa_de_renda_do_suspeito_ADOLESCENTE QUE NÃO FREQUENTA INSTITUIÇÃO DE ENSINO:0.02165907209721458 %\n",
            "Faixa_de_renda_do_suspeito_ALEMÃ(ÃO):0.0 %\n",
            "Faixa_de_renda_do_suspeito_ANALFABETO:0.07548454706484986 %\n",
            "Faixa_de_renda_do_suspeito_APROXIMADAMENTE 25:0.00022485765338336496 %\n",
            "Faixa_de_renda_do_suspeito_APROXIMADAMENTE 25 A 30 ANOS:9.306668125656815e-05 %\n",
            "Faixa_de_renda_do_suspeito_APROXIMADAMENTE 40 NOS:4.91336150350876e-05 %\n",
            "Faixa_de_renda_do_suspeito_APROXIMADAMENTE 49 ANOS:0.0007546907189345816 %\n",
            "Faixa_de_renda_do_suspeito_APROXIMADAMENTE 65 ANOS:7.770766336545749e-05 %\n",
            "Faixa_de_renda_do_suspeito_ATÉ 1 SALÁRIO MÍNIMO:0.6725018961241112 %\n",
            "Faixa_de_renda_do_suspeito_Aproximadamente 25 anos:5.0606424915340086e-05 %\n",
            "Faixa_de_renda_do_suspeito_BOTSUANO(A):8.813204853905728e-05 %\n",
            "Faixa_de_renda_do_suspeito_BRANCA:0.016262630127709513 %\n",
            "Faixa_de_renda_do_suspeito_BRASILEIRO(A):1.4736324096107791 %\n",
            "Faixa_de_renda_do_suspeito_COLOMBIANO(A):2.020719433804973e-05 %\n",
            "Faixa_de_renda_do_suspeito_EM VOLTA DOS 48 ANOS:0.01679866745261804 %\n",
            "Faixa_de_renda_do_suspeito_ENSINO FUNDAMENTAL COMPLETO:0.25439312781555695 %\n",
            "Faixa_de_renda_do_suspeito_ENSINO FUNDAMENTAL INCOMPLETO:0.3887128216273454 %\n",
            "Faixa_de_renda_do_suspeito_ENSINO MÉDIO COMPLETO:0.2786072079993848 %\n",
            "Faixa_de_renda_do_suspeito_ENSINO MÉDIO INCOMPLETO:0.1426882500422889 %\n",
            "Faixa_de_renda_do_suspeito_FEMININO:0.12739111522607607 %\n",
            "Faixa_de_renda_do_suspeito_GREGO(A):5.4169529681042994e-05 %\n",
            "Faixa_de_renda_do_suspeito_HAITIANO(A):5.059985660823655e-05 %\n",
            "Faixa_de_renda_do_suspeito_ITALIANO(A):1.2240560981269683e-05 %\n",
            "Faixa_de_renda_do_suspeito_JAPONÊS(ESA):0.0012497905053523441 %\n",
            "Faixa_de_renda_do_suspeito_MAIS DE 40:0.0002743016158594881 %\n",
            "Faixa_de_renda_do_suspeito_MARROQUINO(A):1.908145459185285e-05 %\n",
            "Faixa_de_renda_do_suspeito_MASCULINO:0.3480338213986334 %\n",
            "Faixa_de_renda_do_suspeito_N/D:1.9320482871320024 %\n",
            "Faixa_de_renda_do_suspeito_NÃO:0.0002824160825341105 %\n",
            "Faixa_de_renda_do_suspeito_PARAGUAIO(A):0.0005189097594272744 %\n",
            "Faixa_de_renda_do_suspeito_PARDA:0.02248360881530553 %\n",
            "Faixa_de_renda_do_suspeito_PRETA:0.00010939888752117007 %\n",
            "Faixa_de_renda_do_suspeito_PÓS-GRADUAÇÃO:0.021436438783402473 %\n",
            "Faixa_de_renda_do_suspeito_SUPERIOR COMPLETO:0.08882254783990383 %\n",
            "Faixa_de_renda_do_suspeito_SUPERIOR INCOMPLETO:0.10899096992993669 %\n",
            "Grau_instrução_do_suspeito_\"APROXIMADAMENTE:0.0008714529132474078 %\n",
            "Grau_instrução_do_suspeito_18 ANOS:0.0030850188192635517 %\n",
            "Grau_instrução_do_suspeito_24 ANOS:8.396316172416787e-05 %\n",
            "Grau_instrução_do_suspeito_25 ANOS\":0.008551482347482273 %\n",
            "Grau_instrução_do_suspeito_26:0.0010045013505191008 %\n",
            "Grau_instrução_do_suspeito_26 ANOS\":0.004049525782471473 %\n",
            "Grau_instrução_do_suspeito_26 anos:0.0009363497870866751 %\n",
            "Grau_instrução_do_suspeito_30 ANOS:0.0025562995716106114 %\n",
            "Grau_instrução_do_suspeito_32 ANOS:0.0005994669948749431 %\n",
            "Grau_instrução_do_suspeito_33 ANOS:0.002113407737292659 %\n",
            "Grau_instrução_do_suspeito_35:0.0007614277574788956 %\n",
            "Grau_instrução_do_suspeito_35 ANOS:4.831531806126581e-05 %\n",
            "Grau_instrução_do_suspeito_40  anos:0.0009402320029308438 %\n",
            "Grau_instrução_do_suspeito_40 ANOS:0.0001370147161844543 %\n",
            "Grau_instrução_do_suspeito_40 ANOS\":0.007485035069418482 %\n",
            "Grau_instrução_do_suspeito_40/45 ANOS:0.004295519800060555 %\n",
            "Grau_instrução_do_suspeito_43 ANOS\":0.0018151693353438364 %\n",
            "Grau_instrução_do_suspeito_55 ANOS\":4.716725289846387e-06 %\n",
            "Grau_instrução_do_suspeito_60 ANOS:0.0 %\n",
            "Grau_instrução_do_suspeito_ADOLESCENTE QUE NÃO FREQUENTA INSTITUIÇÃO DE ENSINO:0.03645883973486983 %\n",
            "Grau_instrução_do_suspeito_ANALFABETO:0.2298803714374052 %\n",
            "Grau_instrução_do_suspeito_APROXIMADAMENTE 49 ANOS:0.0 %\n",
            "Grau_instrução_do_suspeito_ARGENTINO(A):0.0010352071426090797 %\n",
            "Grau_instrução_do_suspeito_ATÉ 1 SALÁRIO MÍNIMO:0.00028958542372450565 %\n",
            "Grau_instrução_do_suspeito_AVÔ(Ó):0.046065342105564205 %\n",
            "Grau_instrução_do_suspeito_BRANCA:5.624202774913715e-05 %\n",
            "Grau_instrução_do_suspeito_BRASILEIRO(A):0.08621988497189577 %\n",
            "Grau_instrução_do_suspeito_COMPANHEIRO(A):0.008206930420011294 %\n",
            "Grau_instrução_do_suspeito_CUNHADO(A):0.034864866560001026 %\n",
            "Grau_instrução_do_suspeito_DESCONHECIDO(A):0.06386647557233081 %\n",
            "Grau_instrução_do_suspeito_EM VOLTA DOS 48 ANOS:0.04060460117347796 %\n",
            "Grau_instrução_do_suspeito_ENSINO FUNDAMENTAL COMPLETO:0.3925590971437852 %\n",
            "Grau_instrução_do_suspeito_ENSINO FUNDAMENTAL INCOMPLETO:0.8444647466897989 %\n",
            "Grau_instrução_do_suspeito_ENSINO MÉDIO COMPLETO:0.6716014446547718 %\n",
            "Grau_instrução_do_suspeito_ENSINO MÉDIO INCOMPLETO:0.5721476807482496 %\n",
            "Grau_instrução_do_suspeito_FEMININO:1.306771587547093 %\n",
            "Grau_instrução_do_suspeito_FILHO(A):0.1617682027900265 %\n",
            "Grau_instrução_do_suspeito_HIERARQUICAMENTE SUPERIOR:0.006148673582762061 %\n",
            "Grau_instrução_do_suspeito_IRMÃO(Ã):0.24883309958823072 %\n",
            "Grau_instrução_do_suspeito_LGBT:0.006231800504910721 %\n",
            "Grau_instrução_do_suspeito_MARIDO/ ESPOSA:0.030170784026235308 %\n",
            "Grau_instrução_do_suspeito_MAS APARENTA TER MAIS DE 40 ANOS\":0.0005765232194695003 %\n",
            "Grau_instrução_do_suspeito_MASCULINO:1.7110086503157533 %\n",
            "Grau_instrução_do_suspeito_MEMBRO:0.04314695617297341 %\n",
            "Grau_instrução_do_suspeito_MESTRADO:0.0020529409094126377 %\n",
            "Grau_instrução_do_suspeito_N/D:2.3115795849683156 %\n",
            "Grau_instrução_do_suspeito_NAMORADO(A):0.018851974709030453 %\n",
            "Grau_instrução_do_suspeito_NETO(A):0.04045655881790119 %\n",
            "Grau_instrução_do_suspeito_NÃO:0.013504991666160728 %\n",
            "Grau_instrução_do_suspeito_PADRASTO/ MADRASTA:0.0146396153325744 %\n",
            "Grau_instrução_do_suspeito_PAI/ MÃE:0.10891555996960256 %\n",
            "Grau_instrução_do_suspeito_PARDA:0.0 %\n",
            "Grau_instrução_do_suspeito_POLINÉSIO(A):0.0019387554260177314 %\n",
            "Grau_instrução_do_suspeito_PRIMO(A):0.055516639609125444 %\n",
            "Grau_instrução_do_suspeito_PÓS-GRADUAÇÃO:0.033421845850651756 %\n",
            "Grau_instrução_do_suspeito_SEM RELAÇÃO:0.038871198218199385 %\n",
            "Grau_instrução_do_suspeito_SIM:0.0028868108214616488 %\n",
            "Grau_instrução_do_suspeito_SOBRINHO(A):0.01068237264922751 %\n",
            "Grau_instrução_do_suspeito_SOGRO(A):0.010011032807281642 %\n",
            "Grau_instrução_do_suspeito_SUPERIOR COMPLETO:0.33737841498082843 %\n",
            "Grau_instrução_do_suspeito_SUPERIOR INCOMPLETO:0.32399922913140833 %\n",
            "Grau_instrução_do_suspeito_TIO(A):0.04566559670152941 %\n",
            "Grau_instrução_do_suspeito_VENEZUELANO(A):0.0 %\n",
            "Grau_instrução_do_suspeito_VIZINHO(A):0.21200232440761954 %\n",
            "idade_suspeito_\" APROXIMADAMENTE:0.010197870084246333 %\n",
            "idade_suspeito_\"\":0.0007802700597062895 %\n",
            "idade_suspeito_\"30 ANOS:0.006752262952792673 %\n",
            "idade_suspeito_\"40 ANOS:0.005033689416859884 %\n",
            "idade_suspeito_\"53:0.001582580402429044 %\n",
            "idade_suspeito_\"APROXIMADAMENTE:0.008286123124357146 %\n",
            "idade_suspeito_\"INFORMOU  QUE TEM 29 ANOS:0.00011142047760997574 %\n",
            "idade_suspeito_'+12:0.00029082106859683185 %\n",
            "idade_suspeito_'+25:3.387702247617841e-06 %\n",
            "idade_suspeito_'---:0.0 %\n",
            "idade_suspeito_( 36 ANOS - PAI DA CRIANÇA / 34 ANOS -MÃE DA CRIANÇA ):0.0054915043520904335 %\n",
            "idade_suspeito_((NÃO SABE):0.005275277252677507 %\n",
            "idade_suspeito_(APROXIMADAMENTE) 24 ANOS:0.013423169471342951 %\n",
            "idade_suspeito_(APROXIMADAMENTE) 28 ANOS:0.03837751890198102 %\n",
            "idade_suspeito_(APROXIMADAMENTE) 34 ANOS:0.006010670452206844 %\n",
            "idade_suspeito_(APROXIMADAMENTE) 42 ANOS:0.000437116592563537 %\n",
            "idade_suspeito_(APROXIMADAMENTE) 70 ANOS:0.0043548977418650684 %\n",
            "idade_suspeito_(APROXIMADAMENTE)49 ANOS:0.0009393763741399374 %\n",
            "idade_suspeito_.:0.0022176583017815936 %\n",
            "idade_suspeito_0:0.001646288030866061 %\n",
            "idade_suspeito_1 A 3 SALÁRIOS MÍNIMOS:0.029661697125284565 %\n",
            "idade_suspeito_12:0.011582037311886614 %\n",
            "idade_suspeito_12 ANOS:0.0002608725728204538 %\n",
            "idade_suspeito_12 E 9 ANOS:1.4985253446743317e-05 %\n",
            "idade_suspeito_13:0.02673875302127754 %\n",
            "idade_suspeito_13 ANOS:0.01717007698237084 %\n",
            "idade_suspeito_14:0.125054898675006 %\n",
            "idade_suspeito_14 ANOS:0.02116342866473404 %\n",
            "idade_suspeito_15:0.061054897828271754 %\n",
            "idade_suspeito_15 ANOS:0.032277029851820224 %\n",
            "idade_suspeito_16:0.10440212102216113 %\n",
            "idade_suspeito_16 anos:0.01819316385601965 %\n",
            "idade_suspeito_17:0.05084075379073773 %\n",
            "idade_suspeito_17 ANOS:0.048726530274418735 %\n",
            "idade_suspeito_17 anos aproximadamente:0.001944409170226779 %\n",
            "idade_suspeito_18:0.2599014375580403 %\n",
            "idade_suspeito_18 ANOS:0.25641440979014496 %\n",
            "idade_suspeito_18 E 19 ANOS PAROXIMADAMENTE:0.021278163511004082 %\n",
            "idade_suspeito_19:0.07557267411794999 %\n",
            "idade_suspeito_19 ANOS DE IDADE:6.044328414929581e-05 %\n",
            "idade_suspeito_19 anos:0.31353941295340565 %\n",
            "idade_suspeito_2:0.0008716760708684201 %\n",
            "idade_suspeito_20:0.10173944074511232 %\n",
            "idade_suspeito_20 ANOS:0.2486653099494425 %\n",
            "idade_suspeito_20 ANOS APROXIMADAMENTE:0.03972249375733826 %\n",
            "idade_suspeito_20\\30 ANOS:0.003211750820564011 %\n",
            "idade_suspeito_21:0.08587459433230851 %\n",
            "idade_suspeito_21 ANOS:0.09173300524373451 %\n",
            "idade_suspeito_21 ANOS APROXIMADAMENTE:0.00020553577300101627 %\n",
            "idade_suspeito_22:0.25067703902659266 %\n",
            "idade_suspeito_22 E 24 ANOS:0.0002398866382618023 %\n",
            "idade_suspeito_22 anos:0.09110645027378671 %\n",
            "idade_suspeito_22/18:0.005284859595663875 %\n",
            "idade_suspeito_23:0.3109287871205621 %\n",
            "idade_suspeito_23  ANOS:0.006957359331549258 %\n",
            "idade_suspeito_23 ANOS:0.39503288619734445 %\n",
            "idade_suspeito_23 ANOS  O OUTRO AGREDITA QUE SEJA 25 ANOS:0.001060878531414869 %\n",
            "idade_suspeito_23 ANOS .:0.01066279451432077 %\n",
            "idade_suspeito_23 E 25 ANOS:0.00744913135202694 %\n",
            "idade_suspeito_24:0.20293253529657895 %\n",
            "idade_suspeito_24 ANOS:0.2610513477535514 %\n",
            "idade_suspeito_24 ANOS APROXIMADAMENTE:0.01583439921077892 %\n",
            "idade_suspeito_24 NAOS:0.0009340587312185334 %\n",
            "idade_suspeito_24 anos os dois aproximadamente:0.002941465683976095 %\n",
            "idade_suspeito_25:0.32702172115583067 %\n",
            "idade_suspeito_25 A 28 AANOS:2.344128010304885e-06 %\n",
            "idade_suspeito_25 ANOS:0.2661355893612304 %\n",
            "idade_suspeito_25 ANOS APROXIMADAMENTE:0.006552528495430475 %\n",
            "idade_suspeito_25 Á 28 ANOS:0.023480001853002887 %\n",
            "idade_suspeito_25-26 ANOS:0.05123176216325907 %\n",
            "idade_suspeito_26:0.1511127157461957 %\n",
            "idade_suspeito_26 ANOS APROXIMADAMENTE:0.03949534478824258 %\n",
            "idade_suspeito_26 anos:0.32867847537199263 %\n",
            "idade_suspeito_26/27:0.0007371101398139103 %\n",
            "idade_suspeito_27:0.38605188771543897 %\n",
            "idade_suspeito_27 A 28 ANOS:0.019387099141530525 %\n",
            "idade_suspeito_27 A ÉPOCA:0.005006314074541539 %\n",
            "idade_suspeito_27 ANOS:0.2859066693906368 %\n",
            "idade_suspeito_27 ANOS APROXIMADAMENTE:0.05142814478784533 %\n",
            "idade_suspeito_27/28:0.010622047104922197 %\n",
            "idade_suspeito_28:0.43013698680400647 %\n",
            "idade_suspeito_28 ANOS (APROXIMADAMENTE):0.029331505457764296 %\n",
            "idade_suspeito_28 ANOS APROXIMADAMENTE:0.015343467211101334 %\n",
            "idade_suspeito_28 ANOS DE IDADE:0.0075829418914187445 %\n",
            "idade_suspeito_28 a 30 anos:0.02849368147991831 %\n",
            "idade_suspeito_28 anos:0.5205526223563779 %\n",
            "idade_suspeito_29:0.12956305782864147 %\n",
            "idade_suspeito_29 ANOS:0.3363573842550322 %\n",
            "idade_suspeito_29 ANOS APROXIMADAMENTE:0.00016701597139268896 %\n",
            "idade_suspeito_29/30:0.0015483285899327223 %\n",
            "idade_suspeito_3 A 5 SALÁRIOS MÍNIMOS:0.008637711219911963 %\n",
            "idade_suspeito_30:0.5355095364129324 %\n",
            "idade_suspeito_30  ANOS:0.08186210703663536 %\n",
            "idade_suspeito_30 - 35 ANOS:0.0073457242478434355 %\n",
            "idade_suspeito_30 A 35 ANOS:0.00022575417844212332 %\n",
            "idade_suspeito_30 A 40 ANOS:0.0026420988826525577 %\n",
            "idade_suspeito_30 ANOS:0.5478655405570859 %\n",
            "idade_suspeito_30 ANOS (APROXIMADAMENTE):0.0002765944417835451 %\n",
            "idade_suspeito_30 ANOS (NÃO TEM CERTEZA):0.058894260105277325 %\n",
            "idade_suspeito_30 ANOS APROXIMADAMENTE:0.02350408139401989 %\n",
            "idade_suspeito_30 ANOS APROXIMADO:0.07172886075862613 %\n",
            "idade_suspeito_30 E POUCOS ANOS:0.010025097898106513 %\n",
            "idade_suspeito_30 aproximadamente:0.004854644834818113 %\n",
            "idade_suspeito_30-40 ANOS:0.0007943553918113973 %\n",
            "idade_suspeito_30/30:0.0019329706720942904 %\n",
            "idade_suspeito_30/33:0.1417871781093359 %\n",
            "idade_suspeito_31:0.1108342179527621 %\n",
            "idade_suspeito_31  ANOS:0.08996152007549664 %\n",
            "idade_suspeito_31 ANOS:0.43481508909246575 %\n",
            "idade_suspeito_32:0.3147643300322616 %\n",
            "idade_suspeito_32  ANOS:0.02760915928209035 %\n",
            "idade_suspeito_32 ANOS:0.6455189596010326 %\n",
            "idade_suspeito_32 ANOS APROXIMADAMENTE:0.01972263858450915 %\n",
            "idade_suspeito_32/33:4.095718470701243e-06 %\n",
            "idade_suspeito_33:0.21395354253698085 %\n",
            "idade_suspeito_33 anos:0.4091813899865608 %\n",
            "idade_suspeito_33/34:0.0001751722457155624 %\n",
            "idade_suspeito_34:0.21791896110463874 %\n",
            "idade_suspeito_34 ANOS:0.31302557262499114 %\n",
            "idade_suspeito_35:0.2168843640701404 %\n",
            "idade_suspeito_35 A 36 APROXIMADAMENTE:0.0008172578302084701 %\n",
            "idade_suspeito_35 A 40 ANOS:0.035156892569713986 %\n",
            "idade_suspeito_35 ANOS:0.4759575796667018 %\n",
            "idade_suspeito_35 ANOS (APROXIMADAMENTE):0.0008862402698995338 %\n",
            "idade_suspeito_35 ANOS APROXIMADAMENTE:0.01588485499788297 %\n",
            "idade_suspeito_35 APROXIMADAMENTE:9.034183554524709e-06 %\n",
            "idade_suspeito_36:0.20923208998903622 %\n",
            "idade_suspeito_36 A 40 ANOS:0.006984928274129342 %\n",
            "idade_suspeito_36 ANOS:0.3926392182121651 %\n",
            "idade_suspeito_36 anos aproximadamente:0.08874679389204887 %\n",
            "idade_suspeito_37:0.21528407003290861 %\n",
            "idade_suspeito_37 A 39 ANOS:0.0 %\n",
            "idade_suspeito_37 A 40 ANOS:0.0007884988598328695 %\n",
            "idade_suspeito_37 ANOS:0.3804980686131271 %\n",
            "idade_suspeito_37 ANOS APROXIMADAMENTE:0.029847563594847172 %\n",
            "idade_suspeito_37 ANOS E 37 ANOS:0.0028269218441629856 %\n",
            "idade_suspeito_37 ANOS E 40 ANOS:0.006008872684058546 %\n",
            "idade_suspeito_37-39 ANOS:0.31613736261760167 %\n",
            "idade_suspeito_37ANOS:0.0014705901072759944 %\n",
            "idade_suspeito_38:0.5289122322150936 %\n",
            "idade_suspeito_38  ANOS:8.873376442828851e-05 %\n",
            "idade_suspeito_38 A 39 ANOS:0.0017419760051495031 %\n",
            "idade_suspeito_38 A 40 ANOS:0.008977904199589732 %\n",
            "idade_suspeito_38 ANOS:0.44185645040743393 %\n",
            "idade_suspeito_38 E 42 ANOS:0.0005767666463577961 %\n",
            "idade_suspeito_38-40:0.011680020733404151 %\n",
            "idade_suspeito_39:0.3744684672837854 %\n",
            "idade_suspeito_39  A 40 ANOS:0.00020943412113063922 %\n",
            "idade_suspeito_39 A 40 ANOS:8.592843126993521e-06 %\n",
            "idade_suspeito_39 ANOS:0.22444323546539227 %\n",
            "idade_suspeito_39 ANOS APROXIMADAMENTE:0.0 %\n",
            "idade_suspeito_40:0.47029021219434614 %\n",
            "idade_suspeito_40  anos:0.001995874208987157 %\n",
            "idade_suspeito_40 A 50 ANOS:0.0021690681873854593 %\n",
            "idade_suspeito_40 ANOS:0.462209252971307 %\n",
            "idade_suspeito_40 ANOS (APROXIMADAMENTE):0.0018394845815663124 %\n",
            "idade_suspeito_40 ANOS (NÃO TEM CERTEZA):0.03337720860386807 %\n",
            "idade_suspeito_40 ANOS E:0.012577441466056393 %\n",
            "idade_suspeito_40 E POUCOS ANOS:0.0002761215826114745 %\n",
            "idade_suspeito_40 anos aproximadamente:0.08428100289416382 %\n",
            "idade_suspeito_40 aproximadamente:0.014891653629865272 %\n",
            "idade_suspeito_40/30/22:0.08151856115227826 %\n",
            "idade_suspeito_40/50 ANOS:0.11224218316504819 %\n",
            "idade_suspeito_41:0.30736990048346435 %\n",
            "idade_suspeito_41 anos:0.2789846779928387 %\n",
            "idade_suspeito_42:0.32209245431877437 %\n",
            "idade_suspeito_42 ANOS:0.3318100355485432 %\n",
            "idade_suspeito_42 ANOS APROXIMADAMENTE:0.024689632024219015 %\n",
            "idade_suspeito_42 ANOS POR AI:0.0032603962984751847 %\n",
            "idade_suspeito_42 APROXIMADAMENTE:0.0003453054588349528 %\n",
            "idade_suspeito_43:0.4237724284903906 %\n",
            "idade_suspeito_43 ANOS APROXIMADAMENTE:0.030271167965190974 %\n",
            "idade_suspeito_43 anos:0.2695665849267738 %\n",
            "idade_suspeito_44:0.34835217922159023 %\n",
            "idade_suspeito_44 anos:0.6337979923832022 %\n",
            "idade_suspeito_44/46 ANOS:0.11340884127365536 %\n",
            "idade_suspeito_45:0.2652246354595335 %\n",
            "idade_suspeito_45  anos:0.0035113421983726982 %\n",
            "idade_suspeito_45 /50 ANOS:0.00302523568684775 %\n",
            "idade_suspeito_45 A 50 ANOS:0.011795098422660742 %\n",
            "idade_suspeito_45 ANOS:0.35025516270018436 %\n",
            "idade_suspeito_45 ANOS APROXIMADAMENTE:0.0022195234044948458 %\n",
            "idade_suspeito_45 ANOS E 42 ANOS:0.0017110597512095846 %\n",
            "idade_suspeito_45 ANOS MAIS OU MENOS:0.006441961009319813 %\n",
            "idade_suspeito_45 aproximadamente:0.015308187017818956 %\n",
            "idade_suspeito_46:0.45140012876486185 %\n",
            "idade_suspeito_46 A 50 ANOS:0.002011273725933321 %\n",
            "idade_suspeito_46 ANOS PAROXIMADAMENTE:0.0 %\n",
            "idade_suspeito_46 anos:0.3710353880145015 %\n",
            "idade_suspeito_46/30:0.0027335255214325322 %\n",
            "idade_suspeito_46/47:0.02259280773993306 %\n",
            "idade_suspeito_47:0.1352762818733636 %\n",
            "idade_suspeito_47 ANOS:0.3274968084716934 %\n",
            "idade_suspeito_47/48 ANOS:0.004633593667706549 %\n",
            "idade_suspeito_48:0.26208872955341966 %\n",
            "idade_suspeito_48 ANOS:0.3136252529342263 %\n",
            "idade_suspeito_48 ANOS APROXIMADAMENTE:0.0003163642163359438 %\n",
            "idade_suspeito_48 E 68 ANOS:0.012875748736780221 %\n",
            "idade_suspeito_49:0.2104372658722468 %\n",
            "idade_suspeito_49 ANOS:0.5271710272144445 %\n",
            "idade_suspeito_49 ANOS APROXIMADAMENTE:0.0 %\n",
            "idade_suspeito_5 A 15 SALÁRIOS MÍNIMOS:0.0031413074845214146 %\n",
            "idade_suspeito_50:0.2854752410823264 %\n",
            "idade_suspeito_50  ANOS APROXIMADAMENTE:0.022033987884251836 %\n",
            "idade_suspeito_50 A 60 ANOS:0.010105167921712533 %\n",
            "idade_suspeito_50 ANOS:0.38455858865222636 %\n",
            "idade_suspeito_50 ANOS (NÃO TEM CERTEZA):0.024312900913180814 %\n",
            "idade_suspeito_50 ANOS APROXIMADAMENTE:0.02678214136305162 %\n",
            "idade_suspeito_50 ANOS APROXIMADO:0.06560250090202976 %\n",
            "idade_suspeito_50 ANOS PRA CIMA:0.011498019960873036 %\n",
            "idade_suspeito_50 APROXIMADAMENTE:1.273806429316406e-05 %\n",
            "idade_suspeito_50/55 ANOS:0.1220958240038018 %\n",
            "idade_suspeito_50/60:0.004458784601232057 %\n",
            "idade_suspeito_51:0.07325541866782097 %\n",
            "idade_suspeito_51 ANOS:0.22139547723172912 %\n",
            "idade_suspeito_51 ANOS APROXIMADAMENTE:0.0011320002635349523 %\n",
            "idade_suspeito_52:0.2107307656089115 %\n",
            "idade_suspeito_52 ANOS (APROXIMADAMENTE):0.000711794947714289 %\n",
            "idade_suspeito_52 anos:0.7449790653382979 %\n",
            "idade_suspeito_52 anos aproximadamente:0.21808189798013722 %\n",
            "idade_suspeito_53:0.15866578346557678 %\n",
            "idade_suspeito_53 ANOS:0.4352571023537028 %\n",
            "idade_suspeito_54:0.19978819672828116 %\n",
            "idade_suspeito_54 ANOS:0.1872166525061237 %\n",
            "idade_suspeito_54 APROXIMADAMENTE:0.0 %\n",
            "idade_suspeito_54/30:7.84039978713697e-06 %\n",
            "idade_suspeito_55:0.14259440779339905 %\n",
            "idade_suspeito_55 ANOS (APROXIMADAMENTE):0.0 %\n",
            "idade_suspeito_55 ANOS APROXIMADAMENTE:0.004517227067124895 %\n",
            "idade_suspeito_55 ANOS E 42 ANOS:0.013482883125996074 %\n",
            "idade_suspeito_55 anos:0.19513137397024824 %\n",
            "idade_suspeito_56:0.19557309349684365 %\n",
            "idade_suspeito_56 ANOS:0.18546898015622232 %\n",
            "idade_suspeito_56 ANOS APROXIMADAMENTE:0.010096305317433838 %\n",
            "idade_suspeito_57:0.1226893410364087 %\n",
            "idade_suspeito_57 ANOS:0.150687285126514 %\n",
            "idade_suspeito_57 ANOS APROXIMADAMENTE:0.0054709687931054265 %\n",
            "idade_suspeito_58:0.1926515706808113 %\n",
            "idade_suspeito_58  ANOS:0.003481327943560123 %\n",
            "idade_suspeito_58 ANOS:0.15897783850212013 %\n",
            "idade_suspeito_58 ANOS APROXIMADAMENTE:0.02561941077246402 %\n",
            "idade_suspeito_59:0.09970087403115449 %\n",
            "idade_suspeito_59 ANOS:0.1053202924400354 %\n",
            "idade_suspeito_59 ANOS DE IDADE:0.12709493771390332 %\n",
            "idade_suspeito_59 ANOS E 60 ANOS:0.005762711405516231 %\n",
            "idade_suspeito_60:0.26696306321537844 %\n",
            "idade_suspeito_60 ANOS:0.460224165628864 %\n",
            "idade_suspeito_60 ANOS APROXIMADAMENTE:0.07242509639588454 %\n",
            "idade_suspeito_60 APROXIMADAMENTE:0.0021986959762667828 %\n",
            "idade_suspeito_60/61:0.06730659449536061 %\n",
            "idade_suspeito_61:0.15102802253469766 %\n",
            "idade_suspeito_61 ANOS (APROXIMADAMENTE):0.00011694500549299102 %\n",
            "idade_suspeito_61 anos:0.12523370931936326 %\n",
            "idade_suspeito_62:0.16502292808756377 %\n",
            "idade_suspeito_62 ANOS:0.22133703651484957 %\n",
            "idade_suspeito_63:0.013812113942976203 %\n",
            "idade_suspeito_63 ANOS:0.0511542254092128 %\n",
            "idade_suspeito_64:0.22092572168031635 %\n",
            "idade_suspeito_64 ANOS:0.18457331667200153 %\n",
            "idade_suspeito_65:0.22351821265068597 %\n",
            "idade_suspeito_65 Anos:0.2761710852811938 %\n",
            "idade_suspeito_65-70 ANOS:0.2026936644641336 %\n",
            "idade_suspeito_66:0.05345188768115297 %\n",
            "idade_suspeito_66 ANOS APROXIMADAMENTE:0.0 %\n",
            "idade_suspeito_66 anos:0.20954339736177882 %\n",
            "idade_suspeito_67:0.05578023843188175 %\n",
            "idade_suspeito_67 ANOS:0.057609492939386005 %\n",
            "idade_suspeito_68:0.05431757629400007 %\n",
            "idade_suspeito_68 ANOS:0.07451606676686914 %\n",
            "idade_suspeito_68 ANOS APROXIMADAMENTE:0.003702677462028083 %\n",
            "idade_suspeito_69:0.01564661605835282 %\n",
            "idade_suspeito_69 ANOS:0.09501473617281005 %\n",
            "idade_suspeito_7:0.011791754616435668 %\n",
            "idade_suspeito_70:0.12137372299267084 %\n",
            "idade_suspeito_70  ANOS:0.0034763945566358406 %\n",
            "idade_suspeito_70 ANOS:0.08167391057771596 %\n",
            "idade_suspeito_70 ANOS APROXIMADAMENTE:0.002219200168380678 %\n",
            "idade_suspeito_70 ANOS DE IDADE APROXIMADAMENTE:0.000627351398217361 %\n",
            "idade_suspeito_70 NOS:0.008829014517598092 %\n",
            "idade_suspeito_70-80:0.03326119018080723 %\n",
            "idade_suspeito_71:0.00663402924860243 %\n",
            "idade_suspeito_71 ANOS:0.02251040229891133 %\n",
            "idade_suspeito_72:0.2724752575266825 %\n",
            "idade_suspeito_72 anos:0.012682604433728555 %\n",
            "idade_suspeito_73:0.1955181694319249 %\n",
            "idade_suspeito_73 anos:3.663705654880445e-05 %\n",
            "idade_suspeito_73 anos aproximadamente:0.018819443144542782 %\n",
            "idade_suspeito_74:0.00019027928718038335 %\n",
            "idade_suspeito_74 anos:0.04032586243422423 %\n",
            "idade_suspeito_75:0.028283153447104872 %\n",
            "idade_suspeito_75 anos:0.047959325953202576 %\n",
            "idade_suspeito_76:0.00010810112507718152 %\n",
            "idade_suspeito_76 anos:0.0015466751119459338 %\n",
            "idade_suspeito_77:0.0 %\n",
            "idade_suspeito_77 ANOS:0.05649434477729769 %\n",
            "idade_suspeito_78 ANOS:0.0179770014182934 %\n",
            "idade_suspeito_78 ANOS (APROXIMADAMENTE):0.0007493055504909956 %\n",
            "idade_suspeito_79:0.026138167389660138 %\n",
            "idade_suspeito_79 ANOS:5.233092359889536e-05 %\n",
            "idade_suspeito_8 ANOS:0.003557339401659847 %\n",
            "idade_suspeito_80:0.003465361881570926 %\n",
            "idade_suspeito_80 ANOS:0.031150177497358638 %\n",
            "idade_suspeito_81 ANOS:0.009545847909978446 %\n",
            "idade_suspeito_82 ANOS:0.05899897704415534 %\n",
            "idade_suspeito_84:0.019216340694037905 %\n",
            "idade_suspeito_85:0.00422683265452621 %\n",
            "idade_suspeito_86:0.003111717150219467 %\n",
            "idade_suspeito_86 ANOS:0.014931008670844816 %\n",
            "idade_suspeito_87:0.016480021043844974 %\n",
            "idade_suspeito_87 ANOS:0.14748755534354746 %\n",
            "idade_suspeito_9 ANOS DE IDADE:0.02700187526510705 %\n",
            "idade_suspeito_90:0.018060481133822238 %\n",
            "idade_suspeito_91:5.026638072706968e-06 %\n",
            "idade_suspeito_93 anos:0.05977201068066495 %\n",
            "idade_suspeito_96:4.473244457951003e-05 %\n",
            "idade_suspeito_96 ANOS:0.0017120493477091481 %\n",
            "idade_suspeito_ACERCA DE 70 ANOS:0.00016477163196873147 %\n",
            "idade_suspeito_ACIMA DE 70 ANOS:0.0 %\n",
            "idade_suspeito_APARENTA 20 ANOS:0.02994925835407269 %\n",
            "idade_suspeito_APARENTA 22 ANOS:0.053833990943479654 %\n",
            "idade_suspeito_APARENTA 25 ANOS:7.546636059606875e-06 %\n",
            "idade_suspeito_APARENTA 28 ANOS:0.005909835075330203 %\n",
            "idade_suspeito_APARENTA 38 ANOS:0.0004369926563401662 %\n",
            "idade_suspeito_APARENTA 45 ANOS:0.009796354052778298 %\n",
            "idade_suspeito_APARENTA 48 ANOS:0.011651654912198677 %\n",
            "idade_suspeito_APARENTA 54 ANOS:0.020069004761076453 %\n",
            "idade_suspeito_APARENTA 60 ANOS:0.13870315636190694 %\n",
            "idade_suspeito_APARENTA TER 23 ANOS:0.024426489245142798 %\n",
            "idade_suspeito_APARENTA TER 40 ANOS:3.066913462874505e-06 %\n",
            "idade_suspeito_APARENTA TER 49 ANOS:0.034988733227867885 %\n",
            "idade_suspeito_APARENTA TER 60 ANOS:8.585585832572182e-06 %\n",
            "idade_suspeito_APARENTA TER 60 ANOS DE IDADE:0.0003394418270856678 %\n",
            "idade_suspeito_APARENTEMENTE 30 ANOS:1.891613651012462e-05 %\n",
            "idade_suspeito_APARENTEMENTE 36 ANOS:4.156830985888919e-06 %\n",
            "idade_suspeito_APARENTEMENTE 48 ANOS:0.009069469128684424 %\n",
            "idade_suspeito_APARENTEMENTE 50 ANOS:0.006329443912333289 %\n",
            "idade_suspeito_APARENTEMENTE 60 ANOS:0.005956334648936772 %\n",
            "idade_suspeito_APARENTEMENTE MAIS DE 30 ANOS:0.0008918555347538319 %\n",
            "idade_suspeito_APROX 43 ANOS:0.00012252505090893943 %\n",
            "idade_suspeito_APROX. 28 ANOS:8.297799265105097e-05 %\n",
            "idade_suspeito_APROX. 52 ANOS:4.523331080311055e-05 %\n",
            "idade_suspeito_APROXIMADAMENTE:0.006373396170628959 %\n",
            "idade_suspeito_APROXIMADAMENTE 19 E 22 ANOS:0.002669605669180249 %\n",
            "idade_suspeito_APROXIMADAMENTE 20 ANOS:5.3394792652712575e-05 %\n",
            "idade_suspeito_APROXIMADAMENTE 21 ANOS:0.039370621737861995 %\n",
            "idade_suspeito_APROXIMADAMENTE 22 ANOS:0.00014429213021528977 %\n",
            "idade_suspeito_APROXIMADAMENTE 23 ANOS:0.0003880374447851498 %\n",
            "idade_suspeito_APROXIMADAMENTE 24 ANOS:0.003011785917539968 %\n",
            "idade_suspeito_APROXIMADAMENTE 24 E 17:0.0037632268453743137 %\n",
            "idade_suspeito_APROXIMADAMENTE 25:9.729062734002229e-06 %\n",
            "idade_suspeito_APROXIMADAMENTE 26 ANOS:0.012071575395472675 %\n",
            "idade_suspeito_APROXIMADAMENTE 27 ANOS:0.0015076314782688073 %\n",
            "idade_suspeito_APROXIMADAMENTE 30:0.0 %\n",
            "idade_suspeito_APROXIMADAMENTE 30 ANOS:0.10453436827712029 %\n",
            "idade_suspeito_APROXIMADAMENTE 35:0.021456076905779428 %\n",
            "idade_suspeito_APROXIMADAMENTE 35 ANOS:0.05236231546621855 %\n",
            "idade_suspeito_APROXIMADAMENTE 36 ANOS:0.014603138848227093 %\n",
            "idade_suspeito_APROXIMADAMENTE 37 ANOS:0.00017501092257469835 %\n",
            "idade_suspeito_APROXIMADAMENTE 38 ANOS:0.035084392736741486 %\n",
            "idade_suspeito_APROXIMADAMENTE 39 ANOS:0.0003653689628928681 %\n",
            "idade_suspeito_APROXIMADAMENTE 40 A 45555:0.0018081219008993963 %\n",
            "idade_suspeito_APROXIMADAMENTE 40 ANOS:0.07123408560236764 %\n",
            "idade_suspeito_APROXIMADAMENTE 41 E 42 ANOS:0.0034529669211071407 %\n",
            "idade_suspeito_APROXIMADAMENTE 42 ANOS:0.07317799805619649 %\n",
            "idade_suspeito_APROXIMADAMENTE 44 ANOS:0.021897403267385856 %\n",
            "idade_suspeito_APROXIMADAMENTE 45 ANOS:0.2546310591405714 %\n",
            "idade_suspeito_APROXIMADAMENTE 46 ANOS:0.012742477410610761 %\n",
            "idade_suspeito_APROXIMADAMENTE 47 ANOS:0.022736852363820524 %\n",
            "idade_suspeito_APROXIMADAMENTE 48 ANOS:0.01631123165026715 %\n",
            "idade_suspeito_APROXIMADAMENTE 49 ANOS:0.00031926044765844366 %\n",
            "idade_suspeito_APROXIMADAMENTE 49 E 50 ANOS:0.056429135183480236 %\n",
            "idade_suspeito_APROXIMADAMENTE 50:0.023073577532458804 %\n",
            "idade_suspeito_APROXIMADAMENTE 50 ANOS:0.11980934373790274 %\n",
            "idade_suspeito_APROXIMADAMENTE 50 E 53 ANOS:0.07118165315023119 %\n",
            "idade_suspeito_APROXIMADAMENTE 51 ANOS:0.07550319296851257 %\n",
            "idade_suspeito_APROXIMADAMENTE 52 ANOS:0.12722446162052595 %\n",
            "idade_suspeito_APROXIMADAMENTE 55 Á 60 ANOS:0.0035694785983535187 %\n",
            "idade_suspeito_APROXIMADAMENTE 60:0.006536524279444676 %\n",
            "idade_suspeito_APROXIMADAMENTE 60 ANOS:0.015084213577507655 %\n",
            "idade_suspeito_APROXIMADAMENTE 60/70 ANOS:5.054423398672505e-06 %\n",
            "idade_suspeito_APROXIMADAMENTE 62 ANOS:0.007211676385446041 %\n",
            "idade_suspeito_APROXIMADAMENTE 64 ANOS:0.013659023737818405 %\n",
            "idade_suspeito_APROXIMADAMENTE 65:0.004555143411167559 %\n",
            "idade_suspeito_APROXIMADAMENTE 70 ANOS:0.13170641942883723 %\n",
            "idade_suspeito_APROXIMADAMENTE 75 ANOS:0.00440885033081624 %\n",
            "idade_suspeito_APROXIMADAMENTE ENTRE 42 E 44 ANOS:0.014519558151629216 %\n",
            "idade_suspeito_APROXIMADAMENTES 42 A 55 ANOS:0.0008914535858160042 %\n",
            "idade_suspeito_APROXIMADAMENTO 30 ANOS:0.007068713148954126 %\n",
            "idade_suspeito_APROXIMADO 27 ANOS:0.06710210095378755 %\n",
            "idade_suspeito_ATÉ 1 SALÁRIO MÍNIMO:0.027503041122475265 %\n",
            "idade_suspeito_AVÔ(Ó):0.0012017250381927986 %\n",
            "idade_suspeito_Aproximadamente 25 anos:0.027998414664038504 %\n",
            "idade_suspeito_Aproximadamente 57 anos:0.04679413489780518 %\n",
            "idade_suspeito_BRANCA:0.00027019741547195297 %\n",
            "idade_suspeito_BRASILEIRO(A):0.05161265731942201 %\n",
            "idade_suspeito_CERCA DE 25 ANOS:0.01023519838899925 %\n",
            "idade_suspeito_CERCA DE 30 ANOS:0.004745807884260702 %\n",
            "idade_suspeito_COM IDADE ENTRE 7 A 10 ANOS:3.42994451266271e-05 %\n",
            "idade_suspeito_CUNHADO(A):7.860523507476533e-05 %\n",
            "idade_suspeito_DESCONHECIDO(A):0.0007644630142299564 %\n",
            "idade_suspeito_ELE 25 ANOS E ELA 22 ANOS (NÃO TEM CERTEZA):0.0037624826590968528 %\n",
            "idade_suspeito_ELE 39 ANOS E ELA 38 ANOS:0.05105918312806008 %\n",
            "idade_suspeito_EM MÉDIA 30 ANOS:5.778222671418585e-05 %\n",
            "idade_suspeito_EM TORNO DE 37 ANOS:0.05643359543943177 %\n",
            "idade_suspeito_EM TORNO DE 40:0.016012835948784117 %\n",
            "idade_suspeito_EM TORNO DE 40 ANOS:0.002156208492512656 %\n",
            "idade_suspeito_EM TORNO DE 42 ANOS:2.9014376833292347e-05 %\n",
            "idade_suspeito_EM TORNO DE 42 ANOS DE IDADE:0.02622266326908105 %\n",
            "idade_suspeito_EM TORNO DE 43 ANOS DE IDADE:0.00024397729713313858 %\n",
            "idade_suspeito_EM TORNO DE 45 ANOS:4.792688415383289e-06 %\n",
            "idade_suspeito_ENSINO FUNDAMENTAL COMPLETO:0.00019909751293141733 %\n",
            "idade_suspeito_ENSINO FUNDAMENTAL INCOMPLETO:0.0 %\n",
            "idade_suspeito_ENTEADO(A):1.934797931995332e-06 %\n",
            "idade_suspeito_ENTER 28 E 30 ANOS:0.000160806596634166 %\n",
            "idade_suspeito_ENTORNO DE 30 ANOS:0.0017896277258014283 %\n",
            "idade_suspeito_ENTRE 20 E 22 ANOS:0.01720851054763596 %\n",
            "idade_suspeito_ENTRE 21 ANOS:0.0 %\n",
            "idade_suspeito_ENTRE 22 E 24:9.168493331956158e-05 %\n",
            "idade_suspeito_ENTRE 26 E 27 ANOS:0.0005350364334296304 %\n",
            "idade_suspeito_ENTRE 30 ANOS:0.057330663434458445 %\n",
            "idade_suspeito_ENTRE 30 E 35:0.0 %\n",
            "idade_suspeito_ENTRE 30 E 35 ANOS:0.00454593350251379 %\n",
            "idade_suspeito_ENTRE 30 E 40:0.0031902552661844242 %\n",
            "idade_suspeito_ENTRE 30 E 40 ANOS:0.1924129227923196 %\n",
            "idade_suspeito_ENTRE 35 ANOS:0.00018732488956783546 %\n",
            "idade_suspeito_ENTRE 35 E 40 ANOS APROXIMADAMENTE:0.003231822178670288 %\n",
            "idade_suspeito_ENTRE 36 E 40 ANOS:0.005503238120725322 %\n",
            "idade_suspeito_ENTRE 40 A 42 ANOS APROXIMADAMENTE:0.012924079068607106 %\n",
            "idade_suspeito_ENTRE 40 A 42 APROXIMADAMENTE:0.013611252202618425 %\n",
            "idade_suspeito_ENTRE 40 E 50:0.0 %\n",
            "idade_suspeito_ENTRE 40 E 50 ANOS:0.003768382317224259 %\n",
            "idade_suspeito_ENTRE 45 A 47 ANOS:0.015185391131047651 %\n",
            "idade_suspeito_ENTRE 45 A 52 ANOS:0.0030339863023891547 %\n",
            "idade_suspeito_ENTRE 48 ANOS:0.012013370318122319 %\n",
            "idade_suspeito_ENTRE 60 ANOS:0.002442662652111259 %\n",
            "idade_suspeito_ENTRE 8 Á 18 ANOS:0.010060453806092122 %\n",
            "idade_suspeito_EX- NAMORADO(A):1.561149579875161e-05 %\n",
            "idade_suspeito_FEMININO:0.021436586200672483 %\n",
            "idade_suspeito_FILHO(A):0.04097589701371342 %\n",
            "idade_suspeito_HIERARQUICAMENTE SUPERIOR:0.0005577248672710253 %\n",
            "idade_suspeito_IRMÃO(Ã):0.013110101189789416 %\n",
            "idade_suspeito_MAIOR QUE 40 ANOS:0.015806586210534962 %\n",
            "idade_suspeito_MAIS DE 40 ANOS:0.010681291562216049 %\n",
            "idade_suspeito_MAIS DE 50 ANOS:0.002373360671415109 %\n",
            "idade_suspeito_MAIS DE 60 ANOS:0.0021737905376801583 %\n",
            "idade_suspeito_MAIS DE 80 ANOS:0.0013803494607672918 %\n",
            "idade_suspeito_MAIS OU MENOS 29:0.07745712918622485 %\n",
            "idade_suspeito_MAIS OU MENOS 40 ANOS:0.007533162072379767 %\n",
            "idade_suspeito_MARIDO/ ESPOSA:0.049737836484175776 %\n",
            "idade_suspeito_MASCULINO:0.021925969576587174 %\n",
            "idade_suspeito_MEMBRO:0.00017792910566217702 %\n",
            "idade_suspeito_N/D:2.5920352552370374 %\n",
            "idade_suspeito_NAMORADO(A):6.742239084247693e-05 %\n",
            "idade_suspeito_NAO SOUBE INFORMAR:0.0059254048172916116 %\n",
            "idade_suspeito_NETO(A):0.0025253625229980712 %\n",
            "idade_suspeito_NÃO:1.6144866508851767 %\n",
            "idade_suspeito_NÃO INFORMADO:0.008516524171648226 %\n",
            "idade_suspeito_NÃO SABE:0.0001636928319320821 %\n",
            "idade_suspeito_NÃO SABE INFORMA:5.854138940890598e-09 %\n",
            "idade_suspeito_NÃO SABE INFORMAR:0.049294759798767455 %\n",
            "idade_suspeito_PADRASTO/ MADRASTA:6.899290749377244e-05 %\n",
            "idade_suspeito_PAI/ MÃE:0.023270742760121428 %\n",
            "idade_suspeito_PARDA:0.0006413427475161781 %\n",
            "idade_suspeito_POR VOLTA 37 A 38 ANOS:0.011641303588767844 %\n",
            "idade_suspeito_POR VOLTA DE 24 À 25 ANOS:0.008321907186431875 %\n",
            "idade_suspeito_POR VOLTA DE 26 ANOS:1.4064164150775762e-05 %\n",
            "idade_suspeito_POR VOLTA DE 29 ANOS:0.0002834762964993156 %\n",
            "idade_suspeito_POR VOLTA DE 40 ANOS:2.86931627611752e-05 %\n",
            "idade_suspeito_QUASE 50 ANOS:0.009617295469619532 %\n",
            "idade_suspeito_SEM RELAÇÃO:0.003505578345860842 %\n",
            "idade_suspeito_SIM:0.6680160720187508 %\n",
            "idade_suspeito_SOBRINHO(A):0.00028079585808146084 %\n",
            "idade_suspeito_SOGRO(A):0.00013010432355308312 %\n",
            "idade_suspeito_TIO(A):0.0025041574294729723 %\n",
            "idade_suspeito_VIZINHO(A):0.011789411452319957 %\n",
            "idade_suspeito_não soube informar:0.014179331787715318 %\n",
            "Sexo_do_suspeito_1 A 3 SALÁRIOS MÍNIMOS:0.0012845113187992558 %\n",
            "Sexo_do_suspeito_13 A 17:0.00034167460677136734 %\n",
            "Sexo_do_suspeito_14:0.0 %\n",
            "Sexo_do_suspeito_2:0.0008149856499186999 %\n",
            "Sexo_do_suspeito_32:0.0003450811028661318 %\n",
            "Sexo_do_suspeito_40:0.0 %\n",
            "Sexo_do_suspeito_ARGENTINO(A):0.03461955033636086 %\n",
            "Sexo_do_suspeito_ATÉ 1 SALÁRIO MÍNIMO:0.0017459304719289522 %\n",
            "Sexo_do_suspeito_BAAMIANO(A):0.0018314003762053552 %\n",
            "Sexo_do_suspeito_BRANCA:0.04820279204569111 %\n",
            "Sexo_do_suspeito_BRASILEIRO(A):1.13406776551439 %\n",
            "Sexo_do_suspeito_CHILENO(A):0.0 %\n",
            "Sexo_do_suspeito_ENSINO MÉDIO COMPLETO:0.00046935928989886064 %\n",
            "Sexo_do_suspeito_FEMININO:5.4675438224731625 %\n",
            "Sexo_do_suspeito_HAITIANO(A):0.012725350204902014 %\n",
            "Sexo_do_suspeito_INDÍGENA:0.014728288940846419 %\n",
            "Sexo_do_suspeito_JAPONÊS(ESA):0.010308219531437108 %\n",
            "Sexo_do_suspeito_LGBT:0.09779952919632877 %\n",
            "Sexo_do_suspeito_MASCULINO:7.583945274868589 %\n",
            "Sexo_do_suspeito_N/D:1.7135602894640822 %\n",
            "Sexo_do_suspeito_NÃO:1.2437438441342576 %\n",
            "Sexo_do_suspeito_PARAGUAIO(A):0.064405676315866 %\n",
            "Sexo_do_suspeito_PARDA:0.04517640461230126 %\n",
            "Sexo_do_suspeito_POLACO(A):0.0020989006150119774 %\n",
            "Sexo_do_suspeito_PORTUGUÊS(A):0.009468105831112761 %\n",
            "Sexo_do_suspeito_PRETA:0.013600321794284158 %\n",
            "Sexo_do_suspeito_SIM:0.412702357981434 %\n",
            "Sexo_do_suspeito_VENEZUELANO(A):0.0 %\n",
            "Agravantes_\"AGRESSOR CÔNJUGE:8.178263199800057 %\n",
            "Agravantes_\"MOTIVO VIL:0.170368586354104 %\n",
            "Agravantes_\"VÍTIMA IDOSA:5.075445584850029 %\n",
            "Agravantes_AGRESSOR CONHECIDO:1.2470528284180318 %\n",
            "Agravantes_AGRESSOR CÔNJUGE:0.07186994226632534 %\n",
            "Agravantes_AGRESSOR DESCONHECIDO:0.8479208424350371 %\n",
            "Agravantes_AGRESSOR POLICIAL/MILITAR:0.1144487734859674 %\n",
            "Agravantes_AGRESSOR POSSUI INFLUÊNCIA JUNTO ÀS AUTORIDADES LOCAIS:0.08550936547715073 %\n",
            "Agravantes_ASCENDENTE:0.09401196591676643 %\n",
            "Agravantes_AUTOR EM POSIÇÃO DE ASCENÇÃO OU DE AUTORIDADE:0.3191943651646542 %\n",
            "Agravantes_CONVIVENTE:0.10100848569666405 %\n",
            "Agravantes_CRIANÇA:0.04104511472691634 %\n",
            "Agravantes_CRUEL:0.0 %\n",
            "Agravantes_DEFICIENTE OU MINORIA ÉTNICA OU SOCIAL:0.037088113209821055 %\n",
            "Agravantes_DESCENDENTE OU PARENTE:0.145867833800663 %\n",
            "Agravantes_DIVULGAÇÃO/EXPOSIÇÃO NA INTERNET:0.14707088648229422 %\n",
            "Agravantes_EM PÚBLICO - OUTRAS PESSOAS PRESENCIAM AS AGRESSÕES:0.5693156503272498 %\n",
            "Agravantes_INSIDIOSO:0.0148441358561107 %\n",
            "Agravantes_LANCHONETE:0.3997877433406624 %\n",
            "Agravantes_N/D:2.182765869915155 %\n",
            "Agravantes_OU POR DINHEIRO:0.006552790628296737 %\n",
            "Agravantes_RELAÇÃO DE TRABALHO ENTRE A VÍTIMA E O AGRESSOR:0.669772176495055 %\n",
            "Agravantes_RESULTADO DAS AGRESSÕES SE PROLONGAM AO LONGO DO TEMPO:0.8245976956642843 %\n",
            "Agravantes_RISCO DE MORTE:0.4805454114074994 %\n",
            "Agravantes_TORPE:0.0037820016611501204 %\n",
            "Agravantes_VIOLÊNCIA NO ÂMBITO DOMÉSTICO - COABITAÇÃO E HOSPITALIDADE:1.3517537626658436 %\n",
            "Agravantes_VÍTIMA EM SANGRAMENTO:0.09082954325249297 %\n",
            "Agravantes_VÍTIMA EM SITUAÇÃO DE RUA:0.07488326073952815 %\n",
            "Agravantes_VÍTIMA IDOSA:0.02682583820428684 %\n",
            "Agravantes_VÍTIMA INTERNADA EM INSTITUIÇÃO DE RESSOCIALIZAÇÃO:0.008616864338584704 %\n",
            "Agravantes_VÍTIMA PRESA EM INSTITUIÇÃO PÚBLICA:0.11956479691067154 %\n"
          ]
        }
      ]
    },
    {
      "cell_type": "code",
      "metadata": {
        "colab": {
          "base_uri": "https://localhost:8080/"
        },
        "id": "h2o8azBqOLFz",
        "outputId": "0aa82ddc-a96d-4395-b081-6a212f610f69"
      },
      "source": [
        "df['Faixa_de_renda_do_suspeito'].value_counts()"
      ],
      "execution_count": null,
      "outputs": [
        {
          "output_type": "execute_result",
          "data": {
            "text/plain": [
              "N/D                                              743600\n",
              "BRASILEIRO(A)                                    133278\n",
              "ATÉ 1 SALÁRIO MÍNIMO                              32674\n",
              "1 A 3 SALÁRIOS MÍNIMOS                            29531\n",
              "ENSINO FUNDAMENTAL INCOMPLETO                     14891\n",
              "                                                  ...  \n",
              "APARENTA TER APROXIMADAMENTE 20 ANOS DE IDADE         1\n",
              "75 ANOS\"                                              1\n",
              "APROXIMADAMENTE 24 ANOS                               1\n",
              "43 ANOS                                               1\n",
              "APARENTA TER 35 ANOS DE IDADE                         1\n",
              "Name: Faixa_de_renda_do_suspeito, Length: 426, dtype: int64"
            ]
          },
          "metadata": {},
          "execution_count": 18
        }
      ]
    },
    {
      "cell_type": "code",
      "metadata": {
        "id": "DJVBjDYICOjc"
      },
      "source": [
        "alvo_pred=rfc.predict(dfquali_test) # Predicao dos valores"
      ],
      "execution_count": null,
      "outputs": []
    },
    {
      "cell_type": "code",
      "metadata": {
        "id": "HhYaZW41CO5n",
        "colab": {
          "base_uri": "https://localhost:8080/"
        },
        "outputId": "a8db127d-795f-4e7a-e981-58ba05dd2507"
      },
      "source": [
        "alvo_pred #listando valores preditos"
      ],
      "execution_count": null,
      "outputs": [
        {
          "output_type": "execute_result",
          "data": {
            "text/plain": [
              "array([False, False, False, ..., False, False, False])"
            ]
          },
          "metadata": {},
          "execution_count": 20
        }
      ]
    },
    {
      "cell_type": "markdown",
      "metadata": {
        "id": "S0mfdDnPDoBh"
      },
      "source": [
        "# Resultados e discussões"
      ]
    },
    {
      "cell_type": "code",
      "metadata": {
        "id": "WifpqmffCl0B",
        "colab": {
          "base_uri": "https://localhost:8080/"
        },
        "outputId": "9f2251ff-3370-4c0a-aa63-b0405801c574"
      },
      "source": [
        "# Importando metrics e printando estimadores de resultados\n",
        "from sklearn import metrics\n",
        "print(metrics.classification_report(alvo_test,alvo_pred))"
      ],
      "execution_count": null,
      "outputs": [
        {
          "output_type": "stream",
          "name": "stdout",
          "text": [
            "              precision    recall  f1-score   support\n",
            "\n",
            "       False       0.89      0.91      0.90      8592\n",
            "        True       0.69      0.64      0.66      2685\n",
            "\n",
            "    accuracy                           0.84     11277\n",
            "   macro avg       0.79      0.77      0.78     11277\n",
            "weighted avg       0.84      0.84      0.84     11277\n",
            "\n"
          ]
        }
      ]
    },
    {
      "cell_type": "code",
      "metadata": {
        "id": "s1yuevLxC_3A",
        "colab": {
          "base_uri": "https://localhost:8080/"
        },
        "outputId": "42777dfd-8763-418e-91a3-d1d3ff9a9f9d"
      },
      "source": [
        "from sklearn.metrics import accuracy_score, recall_score, confusion_matrix , f1_score , precision_score\n",
        "\n",
        "\n",
        "print(\"A acurácia foi de {:.2f}%.\".format(accuracy_score(alvo_test,alvo_pred)*100))\n",
        "\n",
        "print (\"Matriz de confusão : \")\n",
        "print(confusion_matrix(alvo_test,alvo_pred))"
      ],
      "execution_count": null,
      "outputs": [
        {
          "output_type": "stream",
          "name": "stdout",
          "text": [
            "A acurácia foi de 84.46%.\n",
            "Matriz de confusão : \n",
            "[[7818  774]\n",
            " [ 979 1706]]\n"
          ]
        }
      ]
    },
    {
      "cell_type": "code",
      "metadata": {
        "id": "6bFtB6Y2D3-e"
      },
      "source": [
        "CM = confusion_matrix(alvo_test,alvo_pred) # Matriz de confusao"
      ],
      "execution_count": null,
      "outputs": []
    },
    {
      "cell_type": "code",
      "metadata": {
        "id": "6G4aCqvGDb-h",
        "colab": {
          "base_uri": "https://localhost:8080/",
          "height": 337
        },
        "outputId": "f72a192e-90d6-4601-c0c7-f0b2004f161e"
      },
      "source": [
        "#Plotando matriz de confusao\n",
        "\n",
        "import seaborn as sns \n",
        "\n",
        "group_names = ['Negativo','Falso Positivo','Falso Negativo','Positivo']\n",
        "\n",
        "group_counts = [\"{0:0.0f}\".format(value) for value in\n",
        "                CM.flatten()]\n",
        "\n",
        "group_percentages = [\"{0:.2%}\".format(value) for value in\n",
        "                     CM.flatten()/np.sum(CM)]\n",
        "\n",
        "labels = [f\"{v1}\\n{v2}\\n{v3}\" for v1, v2, v3 in\n",
        "          zip(group_names,group_counts,group_percentages)]\n",
        "\n",
        "labels = np.asarray(labels).reshape(2,2)\n",
        "\n",
        "ax = sns.heatmap(CM, annot=labels, fmt='', cmap='Purples')\n",
        "\n",
        "ax.set_title('Matriz de Confusão - Violência contra a Mulher\\n\\n');\n",
        "ax.set_xlabel('\\nValores Previstos')\n",
        "ax.set_ylabel('Valores Atuais');\n",
        "\n",
        "ax.xaxis.set_ticklabels(['Falso','Verdadeiro'])\n",
        "ax.yaxis.set_ticklabels(['Falso','Verdadeiro'])\n",
        "\n",
        "plt.show()"
      ],
      "execution_count": null,
      "outputs": [
        {
          "output_type": "display_data",
          "data": {
            "image/png": "[encoded data removed]",
            "text/plain": [
              "<Figure size 432x288 with 2 Axes>"
            ]
          },
          "metadata": {
            "needs_background": "light"
          }
        }
      ]
    },
    {
      "cell_type": "markdown",
      "metadata": {
        "id": "JSe-l9NQDoBk"
      },
      "source": [
        "# Conclusão"
      ]
    },
    {
      "cell_type": "markdown",
      "metadata": {
        "id": "oQaYR64ADoBl"
      },
      "source": [
        "Infelizmente, devido a base de dados não estar devidamente preenchida, impossibilitou que o resultado ocorresse de maneira precisa. Ainda assim, com os dados atuais disponibilizados, apresentou resultados consideráveis, mostrando que há a possibilidade de comparação entre a violência contra a mulher, as características do suspeitos e agravantes da violência."
      ]
    },
    {
      "cell_type": "markdown",
      "metadata": {
        "id": "LFLn-sfGDoBm"
      },
      "source": [
        "# Referências"
      ]
    },
    {
      "cell_type": "markdown",
      "metadata": {
        "id": "SFC-DlkkDoBm"
      },
      "source": [
        "*Incluir aqui as referências bibliográficas. Utilizar links para os materiais e utilizar as normas para referências da ABNT.*\n",
        "\n",
        "[*CONE, M. Markdown Cheat Sheet: A quick reference to the Markdown syntax. Markdownguide.org, 2020.*](https://www.markdownguide.org/cheat-sheet/#downloads)  \n",
        "[*FREELA, D. Markdown – Um guia para iniciantes. Produtive.me, 2019.*](https://produtive.me/guia/markdown-um-guia-para-iniciantes/)  \n",
        "\n",
        "[*MDH, Primeiro Semestre 2020. Disque 100, 2019.*](https://produtive.me/guia/markdown-um-guia-para-iniciantes/) \n"
      ]
    }
  ]
}